{
 "cells": [
  {
   "cell_type": "markdown",
   "id": "8ceba009-627c-4502-827d-5e661163b2c7",
   "metadata": {},
   "source": [
    "# Data Science Tools and Ecosystem"
   ]
  },
  {
   "cell_type": "markdown",
   "id": "b549adc0-e562-4111-ac6c-0b3267d764d2",
   "metadata": {},
   "source": [
    "In this notebook, Data Science Tools and Ecosystem are summarized."
   ]
  },
  {
   "cell_type": "markdown",
   "id": "f39ff71c-6352-491d-a9ec-4f0789a37f72",
   "metadata": {},
   "source": [
    "Some of the popular languages that Data Scientists use are:\n",
    "\n",
    "1.Python\n",
    "\n",
    "2.R\n",
    "\n",
    "3.SQL"
   ]
  },
  {
   "cell_type": "markdown",
   "id": "f3a8c589-7f69-42cb-8242-ba8aa58fa49b",
   "metadata": {},
   "source": [
    "Some of the commonly used libraries used by Data Scientists include:\n",
    "\n",
    "•Pandas\n",
    "\n",
    "•matplotlib\n",
    "\n",
    "•sklearn\n",
    "\n",
    "•Numpy\n",
    "\n",
    "•seaborn\n",
    "\n",
    "•tensorflow"
   ]
  },
  {
   "cell_type": "markdown",
   "id": "e2661933-47a0-4b7b-8cdf-948be6642e80",
   "metadata": {},
   "source": [
    "| Data Science Tools |\n",
    "|--------------------|\n",
    "| Jupyter notebook   |\n",
    "| RStudio            |\n",
    "| Google colab      |"
   ]
  },
  {
   "cell_type": "markdown",
   "id": "55e031e2-8ca7-4a5c-8668-fd6bea776a5b",
   "metadata": {},
   "source": [
    "### Below are a few examples of evaluating arithmetic expressions in Python."
   ]
  },
  {
   "cell_type": "code",
   "execution_count": 1,
   "id": "5bbbce62-8af8-44f9-b104-6ace15e091af",
   "metadata": {},
   "outputs": [
    {
     "data": {
      "text/plain": [
       "17"
      ]
     },
     "execution_count": 1,
     "metadata": {},
     "output_type": "execute_result"
    }
   ],
   "source": [
    "# This a simple arithmetic expression to mutiply then add integers\n",
    "\n",
    "(3*4)+5"
   ]
  },
  {
   "cell_type": "code",
   "execution_count": 6,
   "id": "0a8c4ca4-d99b-46e6-a409-744e0d9a6e6d",
   "metadata": {},
   "outputs": [
    {
     "data": {
      "text/plain": [
       "3.3333333333333335"
      ]
     },
     "execution_count": 6,
     "metadata": {},
     "output_type": "execute_result"
    }
   ],
   "source": [
    "# This will convert 200 minutes to hours by diving by 60\n",
    "time_min=200\n",
    "time_hr=time_min/60\n",
    "time_hr"
   ]
  },
  {
   "cell_type": "markdown",
   "id": "6a7ee82f-805c-483e-9f23-21060d20b672",
   "metadata": {},
   "source": [
    "**Objectives:**\n",
    "\n",
    "•Some of the popular languages that Data Scientists\n",
    "\n",
    "•commonly used libraries used by Data Scientists\n",
    "\n",
    "•Data Science Tools"
   ]
  },
  {
   "cell_type": "markdown",
   "id": "aa559518-b2d3-48bf-bf08-0151d4925930",
   "metadata": {},
   "source": [
    "## Author\n",
    "\n",
    "Adeeb"
   ]
  }
 ],
 "metadata": {
  "kernelspec": {
   "display_name": "Python 3 (ipykernel)",
   "language": "python",
   "name": "python3"
  },
  "language_info": {
   "codemirror_mode": {
    "name": "ipython",
    "version": 3
   },
   "file_extension": ".py",
   "mimetype": "text/x-python",
   "name": "python",
   "nbconvert_exporter": "python",
   "pygments_lexer": "ipython3",
   "version": "3.11.7"
  }
 },
 "nbformat": 4,
 "nbformat_minor": 5
}
